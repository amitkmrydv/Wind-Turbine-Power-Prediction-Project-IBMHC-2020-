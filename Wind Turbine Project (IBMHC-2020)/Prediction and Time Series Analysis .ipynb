{
 "cells": [
  {
   "cell_type": "code",
   "execution_count": 1,
   "metadata": {},
   "outputs": [],
   "source": [
    "import pandas as pd\n",
    "import numpy as np\n",
    "import matplotlib.pyplot as plt\n",
    "import seaborn as sns\n",
    "sns.set(rc={'figure.figsize':(11,4)})\n",
    "%matplotlib inline"
   ]
  },
  {
   "cell_type": "code",
   "execution_count": 2,
   "metadata": {},
   "outputs": [],
   "source": [
    "d=\"2020-10-01\""
   ]
  },
  {
   "cell_type": "code",
   "execution_count": 3,
   "metadata": {},
   "outputs": [],
   "source": [
    "ws=[]\n",
    "wd=[]\n",
    "m=[]\n",
    "for x in range(144):\n",
    "    ws.append(np.random.uniform(0,25.5))\n",
    "    wd.append(np.random.uniform(0,360))\n",
    "    m.append(d)    "
   ]
  },
  {
   "cell_type": "code",
   "execution_count": 4,
   "metadata": {},
   "outputs": [],
   "source": [
    "data=np.concatenate([np.array(ws).reshape(144,1),np.array(wd).reshape(144,1),np.array(m).reshape(144,1)],1)"
   ]
  },
  {
   "cell_type": "code",
   "execution_count": 5,
   "metadata": {},
   "outputs": [],
   "source": [
    "df1=pd.DataFrame(data=data,columns=[\"Wind Speed\",\"Wind direction\",\"Date/Time\"])\n"
   ]
  },
  {
   "cell_type": "code",
   "execution_count": 6,
   "metadata": {},
   "outputs": [],
   "source": [
    "x=0\n",
    "y=0\n",
    "def date_time(t):\n",
    "        global x\n",
    "        global y\n",
    "        t=t + \" \"+ str(y)+\":\"+str(x*10)+\":\"+\"00\"\n",
    "        if x<5:\n",
    "            x=x+1\n",
    "        else:\n",
    "            x=0\n",
    "            y=y+1\n",
    "        return t    \n",
    "df1[\"Date/Time\"]=df1[\"Date/Time\"].apply(date_time,1)            "
   ]
  },
  {
   "cell_type": "code",
   "execution_count": 7,
   "metadata": {},
   "outputs": [],
   "source": [
    "df1[['date','time']] = df1['Date/Time'].str.split(expand=True)\n",
    "df1['Date/Time'] = (pd.to_datetime(df1.pop('date'), format='%Y/%m/%d') + \n",
    "                  pd.to_timedelta(df1.pop('time') ))"
   ]
  },
  {
   "cell_type": "code",
   "execution_count": 8,
   "metadata": {},
   "outputs": [],
   "source": [
    "df1=df1.set_index(\"Date/Time\")\n",
    "df1[\"Year\"]=df1.index.year\n",
    "df1[\"Month\"]=df1.index.month\n",
    "df1[\"Weekday\"]=df1.index.weekday"
   ]
  },
  {
   "cell_type": "code",
   "execution_count": 9,
   "metadata": {},
   "outputs": [
    {
     "data": {
      "text/html": [
       "<div>\n",
       "<style scoped>\n",
       "    .dataframe tbody tr th:only-of-type {\n",
       "        vertical-align: middle;\n",
       "    }\n",
       "\n",
       "    .dataframe tbody tr th {\n",
       "        vertical-align: top;\n",
       "    }\n",
       "\n",
       "    .dataframe thead th {\n",
       "        text-align: right;\n",
       "    }\n",
       "</style>\n",
       "<table border=\"1\" class=\"dataframe\">\n",
       "  <thead>\n",
       "    <tr style=\"text-align: right;\">\n",
       "      <th></th>\n",
       "      <th>Wind Speed</th>\n",
       "      <th>Wind direction</th>\n",
       "      <th>Year</th>\n",
       "      <th>Month</th>\n",
       "      <th>Weekday</th>\n",
       "    </tr>\n",
       "    <tr>\n",
       "      <th>Date/Time</th>\n",
       "      <th></th>\n",
       "      <th></th>\n",
       "      <th></th>\n",
       "      <th></th>\n",
       "      <th></th>\n",
       "    </tr>\n",
       "  </thead>\n",
       "  <tbody>\n",
       "    <tr>\n",
       "      <th>2020-10-01 00:00:00</th>\n",
       "      <td>4.362751667587849</td>\n",
       "      <td>175.5311260449454</td>\n",
       "      <td>2020</td>\n",
       "      <td>10</td>\n",
       "      <td>3</td>\n",
       "    </tr>\n",
       "    <tr>\n",
       "      <th>2020-10-01 00:10:00</th>\n",
       "      <td>2.904669737798097</td>\n",
       "      <td>287.4706508953748</td>\n",
       "      <td>2020</td>\n",
       "      <td>10</td>\n",
       "      <td>3</td>\n",
       "    </tr>\n",
       "    <tr>\n",
       "      <th>2020-10-01 00:20:00</th>\n",
       "      <td>3.487845071563654</td>\n",
       "      <td>17.623910423619556</td>\n",
       "      <td>2020</td>\n",
       "      <td>10</td>\n",
       "      <td>3</td>\n",
       "    </tr>\n",
       "    <tr>\n",
       "      <th>2020-10-01 00:30:00</th>\n",
       "      <td>9.369652548043948</td>\n",
       "      <td>111.61768972968494</td>\n",
       "      <td>2020</td>\n",
       "      <td>10</td>\n",
       "      <td>3</td>\n",
       "    </tr>\n",
       "    <tr>\n",
       "      <th>2020-10-01 00:40:00</th>\n",
       "      <td>10.257685880050005</td>\n",
       "      <td>93.34439824774698</td>\n",
       "      <td>2020</td>\n",
       "      <td>10</td>\n",
       "      <td>3</td>\n",
       "    </tr>\n",
       "  </tbody>\n",
       "</table>\n",
       "</div>"
      ],
      "text/plain": [
       "                             Wind Speed      Wind direction  Year  Month  \\\n",
       "Date/Time                                                                  \n",
       "2020-10-01 00:00:00   4.362751667587849   175.5311260449454  2020     10   \n",
       "2020-10-01 00:10:00   2.904669737798097   287.4706508953748  2020     10   \n",
       "2020-10-01 00:20:00   3.487845071563654  17.623910423619556  2020     10   \n",
       "2020-10-01 00:30:00   9.369652548043948  111.61768972968494  2020     10   \n",
       "2020-10-01 00:40:00  10.257685880050005   93.34439824774698  2020     10   \n",
       "\n",
       "                     Weekday  \n",
       "Date/Time                     \n",
       "2020-10-01 00:00:00        3  \n",
       "2020-10-01 00:10:00        3  \n",
       "2020-10-01 00:20:00        3  \n",
       "2020-10-01 00:30:00        3  \n",
       "2020-10-01 00:40:00        3  "
      ]
     },
     "execution_count": 9,
     "metadata": {},
     "output_type": "execute_result"
    }
   ],
   "source": [
    "df1.head()"
   ]
  },
  {
   "cell_type": "code",
   "execution_count": 10,
   "metadata": {},
   "outputs": [],
   "source": [
    "X1=df1[[\"Wind Speed\",\"Wind direction\"]]\n",
    "from sklearn.preprocessing import StandardScaler\n",
    "scaler=StandardScaler()\n",
    "scaler.fit(X1)\n",
    "scaled_data=scaler.transform(X1)"
   ]
  },
  {
   "cell_type": "code",
   "execution_count": 11,
   "metadata": {},
   "outputs": [
    {
     "data": {
      "text/plain": [
       "(144,)"
      ]
     },
     "execution_count": 11,
     "metadata": {},
     "output_type": "execute_result"
    }
   ],
   "source": [
    "import joblib\n",
    "tpc=joblib.load('Wind Turbine(TPC).sav').predict(scaled_data)\n",
    "tpc.shape"
   ]
  },
  {
   "cell_type": "code",
   "execution_count": 12,
   "metadata": {},
   "outputs": [],
   "source": [
    "df1[\"Theoretical_Power_Curve (KWh)\"]=tpc"
   ]
  },
  {
   "cell_type": "code",
   "execution_count": 13,
   "metadata": {},
   "outputs": [
    {
     "data": {
      "text/html": [
       "<div>\n",
       "<style scoped>\n",
       "    .dataframe tbody tr th:only-of-type {\n",
       "        vertical-align: middle;\n",
       "    }\n",
       "\n",
       "    .dataframe tbody tr th {\n",
       "        vertical-align: top;\n",
       "    }\n",
       "\n",
       "    .dataframe thead th {\n",
       "        text-align: right;\n",
       "    }\n",
       "</style>\n",
       "<table border=\"1\" class=\"dataframe\">\n",
       "  <thead>\n",
       "    <tr style=\"text-align: right;\">\n",
       "      <th></th>\n",
       "      <th>Wind Speed</th>\n",
       "      <th>Wind direction</th>\n",
       "      <th>Year</th>\n",
       "      <th>Month</th>\n",
       "      <th>Weekday</th>\n",
       "      <th>Theoretical_Power_Curve (KWh)</th>\n",
       "    </tr>\n",
       "    <tr>\n",
       "      <th>Date/Time</th>\n",
       "      <th></th>\n",
       "      <th></th>\n",
       "      <th></th>\n",
       "      <th></th>\n",
       "      <th></th>\n",
       "      <th></th>\n",
       "    </tr>\n",
       "  </thead>\n",
       "  <tbody>\n",
       "    <tr>\n",
       "      <th>2020-10-01 00:00:00</th>\n",
       "      <td>4.362751667587849</td>\n",
       "      <td>175.5311260449454</td>\n",
       "      <td>2020</td>\n",
       "      <td>10</td>\n",
       "      <td>3</td>\n",
       "      <td>0.000000</td>\n",
       "    </tr>\n",
       "    <tr>\n",
       "      <th>2020-10-01 00:10:00</th>\n",
       "      <td>2.904669737798097</td>\n",
       "      <td>287.4706508953748</td>\n",
       "      <td>2020</td>\n",
       "      <td>10</td>\n",
       "      <td>3</td>\n",
       "      <td>0.000000</td>\n",
       "    </tr>\n",
       "    <tr>\n",
       "      <th>2020-10-01 00:20:00</th>\n",
       "      <td>3.487845071563654</td>\n",
       "      <td>17.623910423619556</td>\n",
       "      <td>2020</td>\n",
       "      <td>10</td>\n",
       "      <td>3</td>\n",
       "      <td>0.000000</td>\n",
       "    </tr>\n",
       "    <tr>\n",
       "      <th>2020-10-01 00:30:00</th>\n",
       "      <td>9.369652548043948</td>\n",
       "      <td>111.61768972968494</td>\n",
       "      <td>2020</td>\n",
       "      <td>10</td>\n",
       "      <td>3</td>\n",
       "      <td>448.672003</td>\n",
       "    </tr>\n",
       "    <tr>\n",
       "      <th>2020-10-01 00:40:00</th>\n",
       "      <td>10.257685880050005</td>\n",
       "      <td>93.34439824774698</td>\n",
       "      <td>2020</td>\n",
       "      <td>10</td>\n",
       "      <td>3</td>\n",
       "      <td>609.726611</td>\n",
       "    </tr>\n",
       "  </tbody>\n",
       "</table>\n",
       "</div>"
      ],
      "text/plain": [
       "                             Wind Speed      Wind direction  Year  Month  \\\n",
       "Date/Time                                                                  \n",
       "2020-10-01 00:00:00   4.362751667587849   175.5311260449454  2020     10   \n",
       "2020-10-01 00:10:00   2.904669737798097   287.4706508953748  2020     10   \n",
       "2020-10-01 00:20:00   3.487845071563654  17.623910423619556  2020     10   \n",
       "2020-10-01 00:30:00   9.369652548043948  111.61768972968494  2020     10   \n",
       "2020-10-01 00:40:00  10.257685880050005   93.34439824774698  2020     10   \n",
       "\n",
       "                     Weekday  Theoretical_Power_Curve (KWh)  \n",
       "Date/Time                                                    \n",
       "2020-10-01 00:00:00        3                       0.000000  \n",
       "2020-10-01 00:10:00        3                       0.000000  \n",
       "2020-10-01 00:20:00        3                       0.000000  \n",
       "2020-10-01 00:30:00        3                     448.672003  \n",
       "2020-10-01 00:40:00        3                     609.726611  "
      ]
     },
     "execution_count": 13,
     "metadata": {},
     "output_type": "execute_result"
    }
   ],
   "source": [
    "df1.head()"
   ]
  },
  {
   "cell_type": "code",
   "execution_count": 14,
   "metadata": {},
   "outputs": [],
   "source": [
    "X2=df1[[\"Wind Speed\",\"Theoretical_Power_Curve (KWh)\",\"Month\"]]\n",
    "from sklearn.preprocessing import StandardScaler\n",
    "scaler=StandardScaler()\n",
    "scaler.fit(X2)\n",
    "scaled_data=scaler.transform(X2)"
   ]
  },
  {
   "cell_type": "markdown",
   "metadata": {},
   "source": [
    "X2=df1[[\"Wind Speed\",\"Wind direction\",\"Month\"]]"
   ]
  },
  {
   "cell_type": "code",
   "execution_count": 15,
   "metadata": {},
   "outputs": [
    {
     "data": {
      "text/plain": [
       "(144,)"
      ]
     },
     "execution_count": 15,
     "metadata": {},
     "output_type": "execute_result"
    }
   ],
   "source": [
    "import joblib\n",
    "lv=joblib.load('Wind Turbine(LV).sav').predict(scaled_data)\n",
    "lv.shape"
   ]
  },
  {
   "cell_type": "code",
   "execution_count": 16,
   "metadata": {},
   "outputs": [
    {
     "data": {
      "text/html": [
       "<div>\n",
       "<style scoped>\n",
       "    .dataframe tbody tr th:only-of-type {\n",
       "        vertical-align: middle;\n",
       "    }\n",
       "\n",
       "    .dataframe tbody tr th {\n",
       "        vertical-align: top;\n",
       "    }\n",
       "\n",
       "    .dataframe thead th {\n",
       "        text-align: right;\n",
       "    }\n",
       "</style>\n",
       "<table border=\"1\" class=\"dataframe\">\n",
       "  <thead>\n",
       "    <tr style=\"text-align: right;\">\n",
       "      <th></th>\n",
       "      <th>Wind Speed</th>\n",
       "      <th>Wind direction</th>\n",
       "      <th>Year</th>\n",
       "      <th>Month</th>\n",
       "      <th>Weekday</th>\n",
       "      <th>Theoretical_Power_Curve (KWh)</th>\n",
       "      <th>LV ActivePower (kW)</th>\n",
       "    </tr>\n",
       "    <tr>\n",
       "      <th>Date/Time</th>\n",
       "      <th></th>\n",
       "      <th></th>\n",
       "      <th></th>\n",
       "      <th></th>\n",
       "      <th></th>\n",
       "      <th></th>\n",
       "      <th></th>\n",
       "    </tr>\n",
       "  </thead>\n",
       "  <tbody>\n",
       "    <tr>\n",
       "      <th>2020-10-01 00:00:00</th>\n",
       "      <td>4.362751667587849</td>\n",
       "      <td>175.5311260449454</td>\n",
       "      <td>2020</td>\n",
       "      <td>10</td>\n",
       "      <td>3</td>\n",
       "      <td>0.000000</td>\n",
       "      <td>1.091790e-02</td>\n",
       "    </tr>\n",
       "    <tr>\n",
       "      <th>2020-10-01 00:10:00</th>\n",
       "      <td>2.904669737798097</td>\n",
       "      <td>287.4706508953748</td>\n",
       "      <td>2020</td>\n",
       "      <td>10</td>\n",
       "      <td>3</td>\n",
       "      <td>0.000000</td>\n",
       "      <td>4.016993e-08</td>\n",
       "    </tr>\n",
       "    <tr>\n",
       "      <th>2020-10-01 00:20:00</th>\n",
       "      <td>3.487845071563654</td>\n",
       "      <td>17.623910423619556</td>\n",
       "      <td>2020</td>\n",
       "      <td>10</td>\n",
       "      <td>3</td>\n",
       "      <td>0.000000</td>\n",
       "      <td>4.781280e-08</td>\n",
       "    </tr>\n",
       "    <tr>\n",
       "      <th>2020-10-01 00:30:00</th>\n",
       "      <td>9.369652548043948</td>\n",
       "      <td>111.61768972968494</td>\n",
       "      <td>2020</td>\n",
       "      <td>10</td>\n",
       "      <td>3</td>\n",
       "      <td>448.672003</td>\n",
       "      <td>4.064526e+02</td>\n",
       "    </tr>\n",
       "    <tr>\n",
       "      <th>2020-10-01 00:40:00</th>\n",
       "      <td>10.257685880050005</td>\n",
       "      <td>93.34439824774698</td>\n",
       "      <td>2020</td>\n",
       "      <td>10</td>\n",
       "      <td>3</td>\n",
       "      <td>609.726611</td>\n",
       "      <td>4.815023e+02</td>\n",
       "    </tr>\n",
       "    <tr>\n",
       "      <th>...</th>\n",
       "      <td>...</td>\n",
       "      <td>...</td>\n",
       "      <td>...</td>\n",
       "      <td>...</td>\n",
       "      <td>...</td>\n",
       "      <td>...</td>\n",
       "      <td>...</td>\n",
       "    </tr>\n",
       "    <tr>\n",
       "      <th>2020-10-01 23:10:00</th>\n",
       "      <td>22.37911725980083</td>\n",
       "      <td>307.175936191796</td>\n",
       "      <td>2020</td>\n",
       "      <td>10</td>\n",
       "      <td>3</td>\n",
       "      <td>3600.000000</td>\n",
       "      <td>3.277858e+03</td>\n",
       "    </tr>\n",
       "    <tr>\n",
       "      <th>2020-10-01 23:20:00</th>\n",
       "      <td>7.981267413924577</td>\n",
       "      <td>13.943530779781423</td>\n",
       "      <td>2020</td>\n",
       "      <td>10</td>\n",
       "      <td>3</td>\n",
       "      <td>244.724226</td>\n",
       "      <td>2.028414e+02</td>\n",
       "    </tr>\n",
       "    <tr>\n",
       "      <th>2020-10-01 23:30:00</th>\n",
       "      <td>4.3982250163439085</td>\n",
       "      <td>348.5911402263204</td>\n",
       "      <td>2020</td>\n",
       "      <td>10</td>\n",
       "      <td>3</td>\n",
       "      <td>0.000000</td>\n",
       "      <td>0.000000e+00</td>\n",
       "    </tr>\n",
       "    <tr>\n",
       "      <th>2020-10-01 23:40:00</th>\n",
       "      <td>19.07466733967796</td>\n",
       "      <td>140.81985709005608</td>\n",
       "      <td>2020</td>\n",
       "      <td>10</td>\n",
       "      <td>3</td>\n",
       "      <td>3332.158641</td>\n",
       "      <td>2.868704e+03</td>\n",
       "    </tr>\n",
       "    <tr>\n",
       "      <th>2020-10-01 23:50:00</th>\n",
       "      <td>18.88288636086963</td>\n",
       "      <td>151.4586730162675</td>\n",
       "      <td>2020</td>\n",
       "      <td>10</td>\n",
       "      <td>3</td>\n",
       "      <td>3295.109147</td>\n",
       "      <td>2.746068e+03</td>\n",
       "    </tr>\n",
       "  </tbody>\n",
       "</table>\n",
       "<p>144 rows × 7 columns</p>\n",
       "</div>"
      ],
      "text/plain": [
       "                             Wind Speed      Wind direction  Year  Month  \\\n",
       "Date/Time                                                                  \n",
       "2020-10-01 00:00:00   4.362751667587849   175.5311260449454  2020     10   \n",
       "2020-10-01 00:10:00   2.904669737798097   287.4706508953748  2020     10   \n",
       "2020-10-01 00:20:00   3.487845071563654  17.623910423619556  2020     10   \n",
       "2020-10-01 00:30:00   9.369652548043948  111.61768972968494  2020     10   \n",
       "2020-10-01 00:40:00  10.257685880050005   93.34439824774698  2020     10   \n",
       "...                                 ...                 ...   ...    ...   \n",
       "2020-10-01 23:10:00   22.37911725980083    307.175936191796  2020     10   \n",
       "2020-10-01 23:20:00   7.981267413924577  13.943530779781423  2020     10   \n",
       "2020-10-01 23:30:00  4.3982250163439085   348.5911402263204  2020     10   \n",
       "2020-10-01 23:40:00   19.07466733967796  140.81985709005608  2020     10   \n",
       "2020-10-01 23:50:00   18.88288636086963   151.4586730162675  2020     10   \n",
       "\n",
       "                     Weekday  Theoretical_Power_Curve (KWh)  \\\n",
       "Date/Time                                                     \n",
       "2020-10-01 00:00:00        3                       0.000000   \n",
       "2020-10-01 00:10:00        3                       0.000000   \n",
       "2020-10-01 00:20:00        3                       0.000000   \n",
       "2020-10-01 00:30:00        3                     448.672003   \n",
       "2020-10-01 00:40:00        3                     609.726611   \n",
       "...                      ...                            ...   \n",
       "2020-10-01 23:10:00        3                    3600.000000   \n",
       "2020-10-01 23:20:00        3                     244.724226   \n",
       "2020-10-01 23:30:00        3                       0.000000   \n",
       "2020-10-01 23:40:00        3                    3332.158641   \n",
       "2020-10-01 23:50:00        3                    3295.109147   \n",
       "\n",
       "                     LV ActivePower (kW)  \n",
       "Date/Time                                 \n",
       "2020-10-01 00:00:00         1.091790e-02  \n",
       "2020-10-01 00:10:00         4.016993e-08  \n",
       "2020-10-01 00:20:00         4.781280e-08  \n",
       "2020-10-01 00:30:00         4.064526e+02  \n",
       "2020-10-01 00:40:00         4.815023e+02  \n",
       "...                                  ...  \n",
       "2020-10-01 23:10:00         3.277858e+03  \n",
       "2020-10-01 23:20:00         2.028414e+02  \n",
       "2020-10-01 23:30:00         0.000000e+00  \n",
       "2020-10-01 23:40:00         2.868704e+03  \n",
       "2020-10-01 23:50:00         2.746068e+03  \n",
       "\n",
       "[144 rows x 7 columns]"
      ]
     },
     "execution_count": 16,
     "metadata": {},
     "output_type": "execute_result"
    }
   ],
   "source": [
    "df1[\"LV ActivePower (kW)\"]=lv\n",
    "df1"
   ]
  },
  {
   "cell_type": "code",
   "execution_count": 17,
   "metadata": {},
   "outputs": [
    {
     "data": {
      "image/png": "[encoded data removed]",
      "text/plain": [
       "<Figure size 864x288 with 1 Axes>"
      ]
     },
     "metadata": {
      "needs_background": "light"
     },
     "output_type": "display_data"
    }
   ],
   "source": [
    "fig, axes = plt.subplots(figsize=(12,4))\n",
    "x=df1.index\n",
    "y=df1[\"LV ActivePower (kW)\"].values\n",
    "z=df1[\"Theoretical_Power_Curve (KWh)\"].values\n",
    "axes.plot(x, y, 'b')\n",
    "axes.plot(x,z,\"r\")\n",
    "axes.set_ylabel('LV ActivePower (kW)')\n",
    "axes.set_xlabel('Date/Time')\n",
    "axes.set_title('Time Series Analysis')\n",
    "plt.savefig(\"Time Series Analysis.png\")"
   ]
  },
  {
   "cell_type": "code",
   "execution_count": null,
   "metadata": {},
   "outputs": [],
   "source": []
  }
 ],
 "metadata": {
  "kernelspec": {
   "display_name": "Python 3",
   "language": "python",
   "name": "python3"
  },
  "language_info": {
   "codemirror_mode": {
    "name": "ipython",
    "version": 3
   },
   "file_extension": ".py",
   "mimetype": "text/x-python",
   "name": "python",
   "nbconvert_exporter": "python",
   "pygments_lexer": "ipython3",
   "version": "3.7.4"
  }
 },
 "nbformat": 4,
 "nbformat_minor": 4
}
